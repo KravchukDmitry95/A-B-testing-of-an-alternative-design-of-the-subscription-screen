{
 "cells": [
  {
   "cell_type": "code",
   "execution_count": 25,
   "id": "d290f882-522f-4172-ac17-5956d7b7c86d",
   "metadata": {},
   "outputs": [
    {
     "name": "stdout",
     "output_type": "stream",
     "text": [
      "<class 'pandas.core.frame.DataFrame'>\n",
      "RangeIndex: 19998 entries, 0 to 19997\n",
      "Data columns (total 4 columns):\n",
      " #   Column      Non-Null Count  Dtype \n",
      "---  ------      --------------  ----- \n",
      " 0   user_id     19998 non-null  object\n",
      " 1   timestamp   19998 non-null  object\n",
      " 2   test_group  19998 non-null  object\n",
      " 3   conversion  19998 non-null  int64 \n",
      "dtypes: int64(1), object(3)\n",
      "memory usage: 625.1+ KB\n"
     ]
    },
    {
     "data": {
      "text/plain": [
       "test_group\n",
       "a    10013\n",
       "b     9985\n",
       "Name: count, dtype: int64"
      ]
     },
     "execution_count": 25,
     "metadata": {},
     "output_type": "execute_result"
    }
   ],
   "source": [
    "import pandas as pd\n",
    "import numpy as np\n",
    "import matplotlib.pyplot as plt\n",
    "import seaborn as sns\n",
    "df = pd.read_csv('C:/Anaconda/Lib/ab_test_data.csv')\n",
    "df.head()\n",
    "df.info()\n",
    "df.columns\n",
    "df['test_group'].value_counts()\n"
   ]
  },
  {
   "cell_type": "code",
   "execution_count": 21,
   "id": "44d313e1-dab1-42aa-bdb4-e94806f7997c",
   "metadata": {},
   "outputs": [
    {
     "data": {
      "text/plain": [
       "test_group\n",
       "a    611\n",
       "b    889\n",
       "Name: conversion, dtype: int64"
      ]
     },
     "execution_count": 21,
     "metadata": {},
     "output_type": "execute_result"
    }
   ],
   "source": [
    "df.groupby('test_group')['conversion'].sum()"
   ]
  },
  {
   "cell_type": "code",
   "execution_count": 27,
   "id": "11bfb310-0940-4eb5-bc3b-c5e3572e7914",
   "metadata": {},
   "outputs": [],
   "source": [
    "conversion_rate = df.groupby('test_group')['conversion'].mean() * 100"
   ]
  },
  {
   "cell_type": "code",
   "execution_count": 29,
   "id": "81350573-14e7-42d8-9cf8-02686ea72cdd",
   "metadata": {},
   "outputs": [
    {
     "data": {
      "text/plain": [
       "test_group\n",
       "a    6.102067\n",
       "b    8.903355\n",
       "Name: conversion, dtype: float64"
      ]
     },
     "execution_count": 29,
     "metadata": {},
     "output_type": "execute_result"
    }
   ],
   "source": [
    "conversion_rate"
   ]
  },
  {
   "cell_type": "code",
   "execution_count": 37,
   "id": "421d2b48-39f3-42ec-9d83-f6de7a9a9009",
   "metadata": {},
   "outputs": [],
   "source": [
    "df['timestamp'] = pd.to_datetime(df['timestamp'])\n",
    "start_date = df['timestamp'].min()\n",
    "end_date = df['timestamp'].max()\n",
    "test_duration = (end_date - start_date).days"
   ]
  },
  {
   "cell_type": "code",
   "execution_count": 53,
   "id": "f5f1eaed-9a83-4395-864a-632002efa43f",
   "metadata": {},
   "outputs": [
    {
     "name": "stdout",
     "output_type": "stream",
     "text": [
      "Дата початку тесту 2023-07-03 01:42:34.033708\n",
      "Дата закінчення тесту 2023-07-25 01:41:19.152664\n",
      "Тривалість тесту:21\n"
     ]
    }
   ],
   "source": [
    "print(f\"Дата початку тесту {start_date}\")\n",
    "print(f\"Дата закінчення тесту {end_date}\")\n",
    "print(F\"Тривалість тесту:{test_duration}\")"
   ]
  },
  {
   "cell_type": "code",
   "execution_count": 83,
   "id": "4234a0dd-9ab8-447c-ad54-60ca6966e6bf",
   "metadata": {},
   "outputs": [],
   "source": [
    "group_counts = df['test_group'].value_counts()\n",
    "n_A = group_counts['a']\n",
    "n_B = group_counts['b']\n",
    "conversion = df.groupby('test_group')['conversion'].sum()\n",
    "conv_A = conversion['a']\n",
    "conv_B = conversion['b']\n",
    "successes = np.array([conv_B, conv_A])\n",
    "samples = np.array([n_B, n_A])"
   ]
  },
  {
   "cell_type": "code",
   "execution_count": 85,
   "id": "8a758968-a349-45fa-9c84-d8e906ff9932",
   "metadata": {},
   "outputs": [
    {
     "name": "stdout",
     "output_type": "stream",
     "text": [
      "Z-статистика: 7.519675939906207\n",
      "P-value: 5.491217728445103e-14\n"
     ]
    }
   ],
   "source": [
    "from statsmodels.stats.proportion import proportions_ztest\n",
    "\n",
    "# Виконуємо тест\n",
    "stat, p_value = proportions_ztest(successes, samples)\n",
    "\n",
    "print(f\"Z-статистика: {stat}\")\n",
    "print(f\"P-value: {p_value}\")"
   ]
  },
  {
   "cell_type": "code",
   "execution_count": 129,
   "id": "c60d27ea-34d6-427c-bcc9-0f95d6eec2c1",
   "metadata": {},
   "outputs": [
    {
     "name": "stderr",
     "output_type": "stream",
     "text": [
      "C:\\Temp\\ipykernel_10620\\2549862344.py:20: FutureWarning: \n",
      "\n",
      "Passing `palette` without assigning `hue` is deprecated and will be removed in v0.14.0. Assign the `x` variable to `hue` and set `legend=False` for the same effect.\n",
      "\n",
      "  ax = sns.barplot(x='Group', y='Conversion Rate', data = plot_df,\n"
     ]
    },
    {
     "data": {
      "image/png": "[encoded data removed]",
      "text/plain": [
       "<Figure size 800x600 with 1 Axes>"
      ]
     },
     "metadata": {},
     "output_type": "display_data"
    }
   ],
   "source": [
    "import scipy.stats as stats\n",
    "sns.set(style='whitegrid')\n",
    "\n",
    "conf_int_A = stats.binom.interval(0.95, n_A, conv_A/n_A, loc = 0)\n",
    "conf_int_B = stats.binom.interval(0.95, n_B, conv_B/n_B, loc = 0)\n",
    "\n",
    "conf_int_A = [x / n_A * 100 for x in conf_int_A]\n",
    "conf_int_B = [x / n_B * 100 for x in conf_int_B]\n",
    "\n",
    "data = {\n",
    "    'Group':['A', 'B'],\n",
    "    'Conversion Rate':[conv_A/n_A * 100, conv_B/n_B * 100],\n",
    "    'Lower CI':[conf_int_A[0],conf_int_B[0]],\n",
    "    'Upper CI':[conf_int_A[1],conf_int_B[1]]\n",
    "}\n",
    "\n",
    "plot_df = pd.DataFrame(data)\n",
    "\n",
    "plt.figure(figsize=(8, 6))\n",
    "ax = sns.barplot(x='Group', y='Conversion Rate', data = plot_df,\n",
    "palette = 'muted',errorbar=None)\n",
    "\n",
    "for idx, row in plot_df.iterrows():\n",
    "    plt.plot([idx,idx], [row['Lower CI'], row['Upper CI']],\n",
    "color = 'black',linewidth=2)\n",
    "\n",
    "plt.title('Порівняння конверсій з 95% довірчим інтервалами')\n",
    "plt.ylabel('Конверсія (%)')\n",
    "plt.show()\n"
   ]
  },
  {
   "cell_type": "code",
   "execution_count": null,
   "id": "94b7b96b-80cf-4eb5-8194-dda000e03e7d",
   "metadata": {},
   "outputs": [],
   "source": []
  }
 ],
 "metadata": {
  "kernelspec": {
   "display_name": "Python [conda env:base] *",
   "language": "python",
   "name": "conda-base-py"
  },
  "language_info": {
   "codemirror_mode": {
    "name": "ipython",
    "version": 3
   },
   "file_extension": ".py",
   "mimetype": "text/x-python",
   "name": "python",
   "nbconvert_exporter": "python",
   "pygments_lexer": "ipython3",
   "version": "3.12.7"
  }
 },
 "nbformat": 4,
 "nbformat_minor": 5
}
